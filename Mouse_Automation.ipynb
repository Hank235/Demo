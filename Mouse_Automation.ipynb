{
 "cells": [
  {
   "cell_type": "code",
   "execution_count": 2,
   "id": "40c077e4",
   "metadata": {},
   "outputs": [],
   "source": [
    "import pyautogui"
   ]
  },
  {
   "cell_type": "code",
   "execution_count": 4,
   "id": "603a5b72",
   "metadata": {},
   "outputs": [],
   "source": [
    "width, height = pyautogui.size()"
   ]
  },
  {
   "cell_type": "code",
   "execution_count": 6,
   "id": "cc05bf4e",
   "metadata": {},
   "outputs": [
    {
     "data": {
      "text/plain": [
       "Point(x=1185, y=456)"
      ]
     },
     "execution_count": 6,
     "metadata": {},
     "output_type": "execute_result"
    }
   ],
   "source": [
    "pyautogui.position()\n",
    "# position of the mouse cursor"
   ]
  },
  {
   "cell_type": "code",
   "execution_count": 8,
   "id": "79cfa6a2",
   "metadata": {},
   "outputs": [
    {
     "data": {
      "text/plain": [
       "Point(x=1919, y=1079)"
      ]
     },
     "execution_count": 8,
     "metadata": {},
     "output_type": "execute_result"
    }
   ],
   "source": [
    "pyautogui.position()"
   ]
  },
  {
   "cell_type": "code",
   "execution_count": 10,
   "id": "f086f385",
   "metadata": {},
   "outputs": [],
   "source": [
    "pyautogui.moveTo(10, 10)\n",
    "# move to cursor to desired location"
   ]
  },
  {
   "cell_type": "code",
   "execution_count": 11,
   "id": "7c8fe538",
   "metadata": {},
   "outputs": [],
   "source": [
    "pyautogui.moveTo(10, 10, duration = 1.5)"
   ]
  },
  {
   "cell_type": "code",
   "execution_count": 14,
   "id": "8bb0629a",
   "metadata": {},
   "outputs": [],
   "source": [
    "pyautogui.moveRel(800, 0, duration = 1.5)\n",
    "# MoveRel movement relative to "
   ]
  },
  {
   "cell_type": "code",
   "execution_count": 15,
   "id": "3d15fe6a",
   "metadata": {},
   "outputs": [
    {
     "data": {
      "text/plain": [
       "Point(x=1372, y=28)"
      ]
     },
     "execution_count": 15,
     "metadata": {},
     "output_type": "execute_result"
    }
   ],
   "source": [
    "#closing an open tab on chrome\n",
    "#use postion function to get the position of the cross on tab and then use click\n",
    "pyautogui.position()"
   ]
  },
  {
   "cell_type": "code",
   "execution_count": 16,
   "id": "53956b4a",
   "metadata": {},
   "outputs": [],
   "source": [
    "pyautogui.click(1372, 28)"
   ]
  },
  {
   "cell_type": "code",
   "execution_count": 17,
   "id": "a1bd161d",
   "metadata": {},
   "outputs": [],
   "source": [
    "# similary doubleClick, rightClick, leftClick"
   ]
  },
  {
   "cell_type": "code",
   "execution_count": 18,
   "id": "205d364c",
   "metadata": {},
   "outputs": [
    {
     "name": "stdout",
     "output_type": "stream",
     "text": [
      "Press Ctrl-C to quit.\n",
      "X: 1240 Y:  830 RGB: (247, 247, 24X: 1240 Y:  830 RGB: (247, 247, 24X: 1240 Y:  830 RGB: (255, 255, 25X: 1240 Y:  830 RGB: (255, 255, 25X: 1240 Y:  830 RGB: (255, 255, 25X: 1240 Y:  830 RGB: (255, 255, 25X: 1240 Y:  830 RGB: (255, 255, 25X: 1240 Y:  830 RGB: (255, 255, 25X: 1240 Y:  830 RGB: (255, 255, 25X: 1240 Y:  830 RGB: (255, 255, 25X: 1240 Y:  830 RGB: (255, 255, 25X: 1240 Y:  830 RGB: (255, 255, 25X: 1240 Y:  830 RGB: (255, 255, 25X: 1240 Y:  830 RGB: (255, 255, 25X: 1240 Y:  830 RGB: (255, 255, 25X: 1240 Y:  830 RGB: (255, 255, 25X: 1120 Y:  812 RGB: (255, 255, 25X: 1040 Y:  801 RGB: (202, 202, 20X: 1030 Y:  797 RGB: (255, 255, 25X:  984 Y:  768 RGB: (255, 255, 25X:  972 Y:  757 RGB: (255, 255, 25X:  963 Y:  713 RGB: (255, 255, 25X:  963 Y:  671 RGB: (255, 255, 25X: 1103 Y:  647 RGB: (255, 255, 25X: 1354 Y:  692 RGB: (247, 247, 24X: 1376 Y:  703 RGB: (255, 255, 25X: 1413 Y:  767 RGB: (247, 247, 24X: 1613 Y:  840 RGB: (255, 255, 25X: 1677 Y:  837 RGB: (255, 255, 25X: 1760 Y:  838 RGB: (  0,   0,  8X: 1781 Y:  816 RGB: (255, 255, 25X: 1781 Y:  816 RGB: (255, 255, 25X: 1781 Y:  816 RGB: (255, 255, 25X: 1896 Y:  761 RGB: (255, 255, 25X: 1919 Y:  744 RGB: (101,  99,  5X: 1919 Y:  744 RGB: (101,  99,  5X: 1919 Y:  744 RGB: (101,  99,  5X: 1919 Y:  744 RGB: (101,  99,  5X: 1919 Y:  744 RGB: (101,  99,  5X: 1919 Y:  744 RGB: (101,  99,  5X: 1919 Y:  744 RGB: (101,  99,  5X: 1919 Y:  805 RGB: (101,  99,  5X: 1919 Y:  850 RGB: (101,  99,  5X: 1919 Y:  858 RGB: (101,  99,  5X: 1919 Y:  866 RGB: (101,  99,  5X: 1919 Y:  868 RGB: (101,  99,  5X: 1919 Y:  869 RGB: (101,  99,  5X: 1919 Y:  878 RGB: (101,  99,  5X: 1919 Y:  920 RGB: (101,  99,  5X: 1919 Y:  927 RGB: (101,  99,  5X: 1919 Y:  947 RGB: (101,  99,  5X: 1919 Y:  954 RGB: (101,  99,  5X: 1919 Y:  955 RGB: (101,  99,  5X: 1919 Y:  956 RGB: (101,  99,  5X: 1919 Y:  957 RGB: (101,  99,  5X: 1917 Y:  935 RGB: (168, 168, 16X: 1917 Y:  935 RGB: (168, 168, 16X: 1917 Y:  935 RGB: (168, 168, 16X: 1719 Y:  826 RGB: (255, 255, 25X: 1588 Y:  753 RGB: (255, 255, 25X: 1455 Y:  710 RGB: (255, 255, 25X: 1426 Y:  699 RGB: (255, 255, 25X: 1435 Y:  673 RGB: (255, 255, 25X: 1632 Y:  653 RGB: (255, 255, 25X: 1795 Y:  684 RGB: (255, 199, 13X: 1824 Y:  694 RGB: (255, 255, 25X: 1825 Y:  694 RGB: (255, 255, 25X: 1685 Y:  627 RGB: (255, 255, 25X: 1383 Y:  564 RGB: (255, 255, 25X: 1280 Y:  615 RGB: (255, 255, 25X: 1256 Y:  647 RGB: (255, 255, 25X: 1316 Y:  678 RGB: (255, 255, 25X: 1520 Y:  675 RGB: (255, 255, 25X: 1576 Y:  663 RGB: (255, 255, 25X: 1580 Y:  659 RGB: (255, 255, 25X: 1502 Y:  649 RGB: (255, 255, 25X: 1389 Y:  675 RGB: (255, 255, 25X: 1383 Y:  676 RGB: (255, 255, 25X: 1383 Y:  676 RGB: (255, 255, 25X: 1383 Y:  676 RGB: (255, 255, 25X: 1383 Y:  676 RGB: (255, 255, 25X: 1383 Y:  676 RGB: (255, 255, 25X: 1383 Y:  676 RGB: (255, 255, 25X: 1383 Y:  676 RGB: (255, 255, 25X: 1383 Y:  676 RGB: (255, 255, 25X: 1383 Y:  676 RGB: (255, 255, 25X: 1383 Y:  676 RGB: (255, 255, 25X: 1383 Y:  676 RGB: (255, 255, 25X: 1383 Y:  676 RGB: (255, 255, 25X: 1383 Y:  676 RGB: (255, 255, 25X: 1383 Y:  676 RGB: (255, 255, 25X: 1383 Y:  676 RGB: (255, 255, 25X: 1383 Y:  676 RGB: (255, 255, 25X: 1383 Y:  676 RGB: (255, 255, 25X: 1383 Y:  676 RGB: (255, 255, 25X: 1383 Y:  676 RGB: (255, 255, 25X: 1383 Y:  676 RGB: (255, 255, 25X: 1383 Y:  676 RGB: (255, 255, 25X: 1383 Y:  676 RGB: (255, 255, 25X: 1383 Y:  676 RGB: (255, 255, 25X: 1474 Y:  680 RGB: (255, 255, 25X: 1541 Y:  682 RGB: (255, 255, 25X: 1569 Y:  682 RGB: (255, 255, 19X: 1642 Y:  677 RGB: (255, 255, 25X: 1689 Y:  677 RGB: (255, 255, 25X: 1706 Y:  679 RGB: (255, 255, 25X: 1803 Y:  674 RGB: (255, 255, 25X: 1876 Y:  673 RGB: (255, 255, 25X: 1919 Y:  680 RGB: (101,  99,  5X: 1919 Y:  681 RGB: (101,  99,  5X: 1919 Y:  681 RGB: (101,  99,  5X: 1919 Y:  681 RGB: (101,  99,  5X: 1919 Y:  681 RGB: (101,  99,  5X: 1919 Y:  681 RGB: (101,  99,  5X: 1919 Y:  681 RGB: (101,  99,  5X: 1919 Y:  681 RGB: (101,  99,  5X: 1919 Y:  681 RGB: (101,  99,  5X: 1919 Y:  681 RGB: (101,  99,  5X: 1919 Y:  681 RGB: (101,  99,  5X: 1919 Y:  681 RGB: (101,  99,  5X: 1919 Y:  694 RGB: (101,  99,  5X: 1918 Y:  732 RGB: (241, 241, 24X: 1919 Y:  796 RGB: (101,  99,  5X: 1919 Y:  805 RGB: (101,  99,  5X: 1919 Y:  826 RGB: (101,  99,  5X: 1919 Y:  856 RGB: (101,  99,  5X: 1919 Y:  864 RGB: (101,  99,  5X: 1919 Y:  870 RGB: (101,  99,  5X: 1912 Y:  899 RGB: (120, 120, 12X: 1908 Y:  912 RGB: (120, 120, 12X: 1908 Y:  913 RGB: (120, 120, 12X: 1908 Y:  913 RGB: (120, 120, 12X: 1906 Y:  911 RGB: (168, 168, 16X: 1906 Y:  911 RGB: (168, 168, 16X: 1906 Y:  911 RGB: (168, 168, 16X: 1906 Y:  911 RGB: (168, 168, 16X: 1775 Y:  831 RGB: (255, 255, 25X: 1742 Y:  807 RGB: (  0,  85, 16X: 1732 Y:  801 RGB: (255, 255, 25X: 1732 Y:  801 RGB: (255, 255, 25X: 1732 Y:  801 RGB: (255, 255, 25X: 1732 Y:  801 RGB: (255, 255, 25X: 1732 Y:  801 RGB: (255, 255, 25X: 1732 Y:  801 RGB: (255, 255, 25X: 1732 Y:  801 RGB: (255, 255, 25X: 1732 Y:  801 RGB: (255, 255, 25X: 1732 Y:  801 RGB: (255, 255, 25X: 1732 Y:  801 RGB: (255, 255, 25X: 1732 Y:  801 RGB: (255, 255, 25X: 1732 Y:  801 RGB: (255, 255, 25X: 1732 Y:  801 RGB: (255, 255, 25X: 1732 Y:  801 RGB: (255, 255, 25X: 1732 Y:  801 RGB: (255, 255, 25X: 1732 Y:  801 RGB: (255, 255, 25X: 1732 Y:  801 RGB: (255, 255, 25X: 1732 Y:  801 RGB: (255, 255, 25X: 1732 Y:  801 RGB: (255, 255, 25X: 1732 Y:  801 RGB: (255, 255, 25X: 1732 Y:  801 RGB: (255, 255, 25X: 1732 Y:  801 RGB: (255, 255, 25X: 1732 Y:  801 RGB: (255, 255, 25X: 1732 Y:  801 RGB: (255, 255, 25X: 1732 Y:  801 RGB: (255, 255, 25X: 1732 Y:  801 RGB: (255, 255, 25X: 1732 Y:  801 RGB: (255, 255, 25X: 1732 Y:  801 RGB: (255, 255, 25X: 1732 Y:  801 RGB: (255, 255, 25X: 1732 Y:  801 RGB: (255, 255, 25X: 1732 Y:  801 RGB: (255, 255, 25X: 1732 Y:  801 RGB: (255, 255, 25X: 1732 Y:  801 RGB: (255, 255, 25X: 1732 Y:  801 RGB: (255, 255, 25X: 1732 Y:  801 RGB: (255, 255, 25X: 1732 Y:  801 RGB: (255, 255, 25X: 1732 Y:  801 RGB: (255, 255, 25X: 1732 Y:  801 RGB: (255, 255, 25X: 1732 Y:  801 RGB: (255, 255, 25X: 1732 Y:  801 RGB: (255, 255, 25X: 1732 Y:  801 RGB: (255, 255, 25X: 1732 Y:  801 RGB: (255, 255, 25X: 1732 Y:  801 RGB: (255, 255, 25X: 1732 Y:  801 RGB: (255, 255, 25X: 1732 Y:  801 RGB: (255, 255, 25X: 1732 Y:  801 RGB: (255, 255, 25X: 1732 Y:  801 RGB: (255, 255, 25X: 1732 Y:  801 RGB: (255, 255, 25X: 1732 Y:  801 RGB: (255, 255, 25X: 1732 Y:  801 RGB: (255, 255, 25X: 1732 Y:  801 RGB: (255, 255, 25X: 1732 Y:  801 RGB: (255, 255, 25X: 1732 Y:  801 RGB: (255, 255, 25X: 1732 Y:  801 RGB: (255, 255, 25X: 1732 Y:  801 RGB: (255, 255, 25X: 1557 Y:  394 RGB: (255, 255, 25X: 1553 Y:  337 RGB: (255, 255, 25X: 1553 Y:  337 RGB: (255, 255, 25X: 1553 Y:  337 RGB: (255, 255, 25X: 1553 Y:  337 RGB: (255, 255, 25X: 1382 Y:  310 RGB: (255, 255, 25X: 1341 Y:  295 RGB: (254, 254, 25X: 1341 Y:  295 RGB: (254, 254, 25X: 1344 Y:  293 RGB: (254, 254, 25X: 1350 Y:  289 RGB: (251, 251, 25X: 1349 Y:  274 RGB: (255, 255, 25X: 1340 Y:  263 RGB: ( 51,  51,  5X: 1340 Y:  263 RGB: ( 51,  51,  5X: 1340 Y:  264 RGB: (219, 216, 21X: 1340 Y:  265 RGB: (230, 230, 23\n"
     ]
    }
   ],
   "source": [
    "pyautogui.displayMousePosition()"
   ]
  },
  {
   "cell_type": "code",
   "execution_count": null,
   "id": "8484c539",
   "metadata": {},
   "outputs": [],
   "source": []
  }
 ],
 "metadata": {
  "kernelspec": {
   "display_name": "Python 3 (ipykernel)",
   "language": "python",
   "name": "python3"
  },
  "language_info": {
   "codemirror_mode": {
    "name": "ipython",
    "version": 3
   },
   "file_extension": ".py",
   "mimetype": "text/x-python",
   "name": "python",
   "nbconvert_exporter": "python",
   "pygments_lexer": "ipython3",
   "version": "3.8.12"
  }
 },
 "nbformat": 4,
 "nbformat_minor": 5
}
